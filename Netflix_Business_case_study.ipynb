{
 "cells": [
  {
   "cell_type": "markdown",
   "metadata": {},
   "source": [
    "# Business Problem: Analyze the data and generate insights that could help Netflix ijn deciding which type of shows/movies to produce and how they can grow the business in different countries."
   ]
  },
  {
   "cell_type": "markdown",
   "metadata": {},
   "source": [
    "## Assumption : \n",
    "### 1.\tMore data means in type of movies mean, actually in past user watched those kind of movies.\n",
    "### 2.\tAssume each season as equal number of episodes. Each episode as same duration\n"
   ]
  },
  {
   "cell_type": "code",
   "execution_count": 83,
   "metadata": {
    "id": "H1DI_lKSe3LZ"
   },
   "outputs": [],
   "source": [
    "# import library\n",
    "import numpy as np\n",
    "import pandas as pd\n",
    "import matplotlib.pyplot as plt\n",
    "import seaborn as sns"
   ]
  },
  {
   "cell_type": "markdown",
   "metadata": {
    "id": "2PJTv5vKp_Lw"
   },
   "source": [
    "# Data loading and creating netflix data frame"
   ]
  },
  {
   "cell_type": "code",
   "execution_count": 85,
   "metadata": {
    "id": "10e2xKOVfHtW"
   },
   "outputs": [],
   "source": [
    "# creating dataframe for Netflix data\n",
    "df = pd.read_csv('https://d2beiqkhq929f0.cloudfront.net/public_assets/assets/000/000/940/original/netflix.csv')\n",
    "df_original = pd.read_csv('https://d2beiqkhq929f0.cloudfront.net/public_assets/assets/000/000/940/original/netflix.csv')"
   ]
  },
  {
   "cell_type": "markdown",
   "metadata": {
    "id": "xPuk1iqhqGeN"
   },
   "source": [
    "# Exploratory analysis of data frame"
   ]
  },
  {
   "cell_type": "code",
   "execution_count": 86,
   "metadata": {
    "colab": {
     "base_uri": "https://localhost:8080/",
     "height": 337
    },
    "id": "X519wJcr6vBU",
    "outputId": "386ad422-f99d-4105-8467-cf33ec7a1df6",
    "scrolled": true
   },
   "outputs": [
    {
     "data": {
      "text/html": [
       "<div>\n",
       "<style scoped>\n",
       "    .dataframe tbody tr th:only-of-type {\n",
       "        vertical-align: middle;\n",
       "    }\n",
       "\n",
       "    .dataframe tbody tr th {\n",
       "        vertical-align: top;\n",
       "    }\n",
       "\n",
       "    .dataframe thead th {\n",
       "        text-align: right;\n",
       "    }\n",
       "</style>\n",
       "<table border=\"1\" class=\"dataframe\">\n",
       "  <thead>\n",
       "    <tr style=\"text-align: right;\">\n",
       "      <th></th>\n",
       "      <th>show_id</th>\n",
       "      <th>type</th>\n",
       "      <th>title</th>\n",
       "      <th>director</th>\n",
       "      <th>cast</th>\n",
       "      <th>country</th>\n",
       "      <th>date_added</th>\n",
       "      <th>release_year</th>\n",
       "      <th>rating</th>\n",
       "      <th>duration</th>\n",
       "      <th>listed_in</th>\n",
       "      <th>description</th>\n",
       "    </tr>\n",
       "  </thead>\n",
       "  <tbody>\n",
       "    <tr>\n",
       "      <th>0</th>\n",
       "      <td>s1</td>\n",
       "      <td>Movie</td>\n",
       "      <td>Dick Johnson Is Dead</td>\n",
       "      <td>Kirsten Johnson</td>\n",
       "      <td>NaN</td>\n",
       "      <td>United States</td>\n",
       "      <td>September 25, 2021</td>\n",
       "      <td>2020</td>\n",
       "      <td>PG-13</td>\n",
       "      <td>90 min</td>\n",
       "      <td>Documentaries</td>\n",
       "      <td>As her father nears the end of his life, filmm...</td>\n",
       "    </tr>\n",
       "    <tr>\n",
       "      <th>1</th>\n",
       "      <td>s2</td>\n",
       "      <td>TV Show</td>\n",
       "      <td>Blood &amp; Water</td>\n",
       "      <td>NaN</td>\n",
       "      <td>Ama Qamata, Khosi Ngema, Gail Mabalane, Thaban...</td>\n",
       "      <td>South Africa</td>\n",
       "      <td>September 24, 2021</td>\n",
       "      <td>2021</td>\n",
       "      <td>TV-MA</td>\n",
       "      <td>2 Seasons</td>\n",
       "      <td>International TV Shows, TV Dramas, TV Mysteries</td>\n",
       "      <td>After crossing paths at a party, a Cape Town t...</td>\n",
       "    </tr>\n",
       "    <tr>\n",
       "      <th>2</th>\n",
       "      <td>s3</td>\n",
       "      <td>TV Show</td>\n",
       "      <td>Ganglands</td>\n",
       "      <td>Julien Leclercq</td>\n",
       "      <td>Sami Bouajila, Tracy Gotoas, Samuel Jouy, Nabi...</td>\n",
       "      <td>NaN</td>\n",
       "      <td>September 24, 2021</td>\n",
       "      <td>2021</td>\n",
       "      <td>TV-MA</td>\n",
       "      <td>1 Season</td>\n",
       "      <td>Crime TV Shows, International TV Shows, TV Act...</td>\n",
       "      <td>To protect his family from a powerful drug lor...</td>\n",
       "    </tr>\n",
       "    <tr>\n",
       "      <th>3</th>\n",
       "      <td>s4</td>\n",
       "      <td>TV Show</td>\n",
       "      <td>Jailbirds New Orleans</td>\n",
       "      <td>NaN</td>\n",
       "      <td>NaN</td>\n",
       "      <td>NaN</td>\n",
       "      <td>September 24, 2021</td>\n",
       "      <td>2021</td>\n",
       "      <td>TV-MA</td>\n",
       "      <td>1 Season</td>\n",
       "      <td>Docuseries, Reality TV</td>\n",
       "      <td>Feuds, flirtations and toilet talk go down amo...</td>\n",
       "    </tr>\n",
       "    <tr>\n",
       "      <th>4</th>\n",
       "      <td>s5</td>\n",
       "      <td>TV Show</td>\n",
       "      <td>Kota Factory</td>\n",
       "      <td>NaN</td>\n",
       "      <td>Mayur More, Jitendra Kumar, Ranjan Raj, Alam K...</td>\n",
       "      <td>India</td>\n",
       "      <td>September 24, 2021</td>\n",
       "      <td>2021</td>\n",
       "      <td>TV-MA</td>\n",
       "      <td>2 Seasons</td>\n",
       "      <td>International TV Shows, Romantic TV Shows, TV ...</td>\n",
       "      <td>In a city of coaching centers known to train I...</td>\n",
       "    </tr>\n",
       "  </tbody>\n",
       "</table>\n",
       "</div>"
      ],
      "text/plain": [
       "  show_id     type                  title         director  \\\n",
       "0      s1    Movie   Dick Johnson Is Dead  Kirsten Johnson   \n",
       "1      s2  TV Show          Blood & Water              NaN   \n",
       "2      s3  TV Show              Ganglands  Julien Leclercq   \n",
       "3      s4  TV Show  Jailbirds New Orleans              NaN   \n",
       "4      s5  TV Show           Kota Factory              NaN   \n",
       "\n",
       "                                                cast        country  \\\n",
       "0                                                NaN  United States   \n",
       "1  Ama Qamata, Khosi Ngema, Gail Mabalane, Thaban...   South Africa   \n",
       "2  Sami Bouajila, Tracy Gotoas, Samuel Jouy, Nabi...            NaN   \n",
       "3                                                NaN            NaN   \n",
       "4  Mayur More, Jitendra Kumar, Ranjan Raj, Alam K...          India   \n",
       "\n",
       "           date_added  release_year rating   duration  \\\n",
       "0  September 25, 2021          2020  PG-13     90 min   \n",
       "1  September 24, 2021          2021  TV-MA  2 Seasons   \n",
       "2  September 24, 2021          2021  TV-MA   1 Season   \n",
       "3  September 24, 2021          2021  TV-MA   1 Season   \n",
       "4  September 24, 2021          2021  TV-MA  2 Seasons   \n",
       "\n",
       "                                           listed_in  \\\n",
       "0                                      Documentaries   \n",
       "1    International TV Shows, TV Dramas, TV Mysteries   \n",
       "2  Crime TV Shows, International TV Shows, TV Act...   \n",
       "3                             Docuseries, Reality TV   \n",
       "4  International TV Shows, Romantic TV Shows, TV ...   \n",
       "\n",
       "                                         description  \n",
       "0  As her father nears the end of his life, filmm...  \n",
       "1  After crossing paths at a party, a Cape Town t...  \n",
       "2  To protect his family from a powerful drug lor...  \n",
       "3  Feuds, flirtations and toilet talk go down amo...  \n",
       "4  In a city of coaching centers known to train I...  "
      ]
     },
     "execution_count": 86,
     "metadata": {},
     "output_type": "execute_result"
    }
   ],
   "source": [
    "df.head()"
   ]
  },
  {
   "cell_type": "markdown",
   "metadata": {},
   "source": [
    "### Insight from below code \n",
    "- director, cast, country, date_added contain majority null/ missing values.\n",
    "- rating and duration contain 3to 4 missing values"
   ]
  },
  {
   "cell_type": "code",
   "execution_count": 87,
   "metadata": {
    "colab": {
     "base_uri": "https://localhost:8080/"
    },
    "id": "Ug4RIlMO6wV8",
    "outputId": "56401375-0813-44ff-a093-41fc7675185d"
   },
   "outputs": [
    {
     "name": "stdout",
     "output_type": "stream",
     "text": [
      "<class 'pandas.core.frame.DataFrame'>\n",
      "RangeIndex: 8807 entries, 0 to 8806\n",
      "Data columns (total 12 columns):\n",
      " #   Column        Non-Null Count  Dtype \n",
      "---  ------        --------------  ----- \n",
      " 0   show_id       8807 non-null   object\n",
      " 1   type          8807 non-null   object\n",
      " 2   title         8807 non-null   object\n",
      " 3   director      6173 non-null   object\n",
      " 4   cast          7982 non-null   object\n",
      " 5   country       7976 non-null   object\n",
      " 6   date_added    8797 non-null   object\n",
      " 7   release_year  8807 non-null   int64 \n",
      " 8   rating        8803 non-null   object\n",
      " 9   duration      8804 non-null   object\n",
      " 10  listed_in     8807 non-null   object\n",
      " 11  description   8807 non-null   object\n",
      "dtypes: int64(1), object(11)\n",
      "memory usage: 825.8+ KB\n"
     ]
    }
   ],
   "source": [
    "df.info()"
   ]
  },
  {
   "cell_type": "code",
   "execution_count": 88,
   "metadata": {
    "colab": {
     "base_uri": "https://localhost:8080/"
    },
    "id": "H1sOt6_Z5lBg",
    "outputId": "119f12a9-c0c8-4ad1-c78d-aee32e00372f"
   },
   "outputs": [
    {
     "data": {
      "text/plain": [
       "Index(['show_id', 'type', 'title', 'director', 'cast', 'country', 'date_added',\n",
       "       'release_year', 'rating', 'duration', 'listed_in', 'description'],\n",
       "      dtype='object')"
      ]
     },
     "execution_count": 88,
     "metadata": {},
     "output_type": "execute_result"
    }
   ],
   "source": [
    "# get all column name\n",
    "df.columns"
   ]
  },
  {
   "cell_type": "code",
   "execution_count": 89,
   "metadata": {
    "colab": {
     "base_uri": "https://localhost:8080/"
    },
    "id": "L6Re8GbA7_7l",
    "outputId": "e43d5817-21e1-4150-82ae-54b11b2466ea"
   },
   "outputs": [
    {
     "name": "stdout",
     "output_type": "stream",
     "text": [
      "shape of data frame - (8807, 12)\n",
      "dimension of data frame -  2\n",
      "size of data frame -  105684\n",
      "type -  <class 'pandas.core.frame.DataFrame'>\n"
     ]
    }
   ],
   "source": [
    "print('shape of data frame -', df.shape)\n",
    "print('dimension of data frame - ', df.ndim)\n",
    "print('size of data frame - ',df.size)\n",
    "print('type - ',type(df))"
   ]
  },
  {
   "cell_type": "markdown",
   "metadata": {
    "id": "wFcCq-Tk1mBd"
   },
   "source": [
    "# Exploratory analysis of indivilual columns on input dataframe"
   ]
  },
  {
   "cell_type": "markdown",
   "metadata": {
    "id": "LTnqTkgu91Eg"
   },
   "source": [
    "## Show_id column\n",
    "### Insight\n",
    "- Elements in this columns are unique, as is should be and no null value\n",
    "- datatype is object , which should be string dtype"
   ]
  },
  {
   "cell_type": "code",
   "execution_count": 90,
   "metadata": {
    "colab": {
     "base_uri": "https://localhost:8080/"
    },
    "id": "aA3JGzxkq7v7",
    "outputId": "7755ab7b-bf3e-4c93-9f1a-393b04c3180e"
   },
   "outputs": [
    {
     "name": "stdout",
     "output_type": "stream",
     "text": [
      "count of elements 8807\n",
      "unique elements ['s1' 's2' 's3' ... 's8805' 's8806' 's8807']\n",
      "number of unique elements 8807\n"
     ]
    }
   ],
   "source": [
    "# show_id column\n",
    "print('count of elements', df['show_id'].count())\n",
    "print('unique elements', df['show_id'].unique())\n",
    "print('number of unique elements', df['show_id'].nunique())\n",
    "\n"
   ]
  },
  {
   "cell_type": "markdown",
   "metadata": {
    "id": "26NkFy0o5JiN"
   },
   "source": []
  },
  {
   "cell_type": "markdown",
   "metadata": {
    "id": "piht05op9h2F"
   },
   "source": [
    "## Type column\n",
    "### Insight\n",
    "- Elements in this columns are of cateogorical type and no null value\n",
    "- datatype is object,  which should be category dtype\n",
    "- mode = Movie\n",
    "- only 2 category data  - Movie and TV show"
   ]
  },
  {
   "cell_type": "code",
   "execution_count": 91,
   "metadata": {
    "colab": {
     "base_uri": "https://localhost:8080/"
    },
    "id": "H2fkrpu519rj",
    "outputId": "8fef7626-e091-4a86-b7fd-04ad4b9f98c4"
   },
   "outputs": [
    {
     "name": "stdout",
     "output_type": "stream",
     "text": [
      "count of elements 8807\n",
      "size of elements 8807\n",
      "unique elements ['Movie' 'TV Show']\n",
      "number of unique elements 2\n",
      "\n",
      "value of count of each element Movie      6131\n",
      "TV Show    2676\n",
      "Name: type, dtype: int64\n",
      "\n",
      "mode of column 0    Movie\n",
      "Name: type, dtype: object\n"
     ]
    }
   ],
   "source": [
    "# type column\n",
    "print('count of elements', df['type'].count())\n",
    "print('size of elements', df['type'].size)\n",
    "print('unique elements', df['type'].unique())\n",
    "print('number of unique elements', df['type'].nunique())\n",
    "print()\n",
    "print('value of count of each element', df['type'].value_counts())\n",
    "print()\n",
    "print('mode of column', df['type'].mode())"
   ]
  },
  {
   "cell_type": "markdown",
   "metadata": {
    "id": "pUjsFC_u-B_L"
   },
   "source": [
    "## title column\n",
    "### Insight\n",
    "- All elements in this columns are unique and no null value\n",
    "- datatype is object"
   ]
  },
  {
   "cell_type": "code",
   "execution_count": 92,
   "metadata": {
    "colab": {
     "base_uri": "https://localhost:8080/"
    },
    "id": "gB5oAYR96SYw",
    "outputId": "7fa5662d-4849-4e60-c731-3f71deb443c9"
   },
   "outputs": [
    {
     "name": "stdout",
     "output_type": "stream",
     "text": [
      "count of elements 8807\n",
      "size of elements 8807\n",
      "unique elements ['Dick Johnson Is Dead' 'Blood & Water' 'Ganglands' ... 'Zombieland'\n",
      " 'Zoom' 'Zubaan']\n",
      "number of unique elements 8807\n"
     ]
    }
   ],
   "source": [
    "print('count of elements', df['title'].count())\n",
    "print('size of elements', df['title'].size)\n",
    "print('unique elements', df['title'].unique())\n",
    "print('number of unique elements', df['title'].nunique())"
   ]
  },
  {
   "cell_type": "markdown",
   "metadata": {
    "id": "0oxFKAHq_AR4"
   },
   "source": [
    "## Director column     \n",
    "### Insight\n",
    "- All elements in this columns are not unique and includes null value\n",
    "- number of null values - 2634\n",
    "- datatype is object , which should be string\n",
    "- Mode -  Rajiv Chilaka (19 movies / tvshows)\n",
    "- unique value = 4528"
   ]
  },
  {
   "cell_type": "code",
   "execution_count": 93,
   "metadata": {
    "colab": {
     "base_uri": "https://localhost:8080/"
    },
    "id": "LXCTehwh6kP3",
    "outputId": "8f24976d-386a-4aef-8b6a-17a383624ac7"
   },
   "outputs": [
    {
     "name": "stdout",
     "output_type": "stream",
     "text": [
      "count of elements 6173\n",
      "size of elements 8807\n",
      "number of unique elements 4528\n",
      "\n",
      "mode of column 0    Rajiv Chilaka\n",
      "Name: director, dtype: object\n",
      "\n",
      "value of count of each element                                index  director\n",
      "0                      Rajiv Chilaka        19\n",
      "1             Raúl Campos, Jan Suter        18\n",
      "2                       Marcus Raboy        16\n",
      "3                        Suhas Kadav        16\n",
      "4                          Jay Karas        14\n",
      "...                              ...       ...\n",
      "4523  Raymie Muzquiz, Stu Livingston         1\n",
      "4524                    Joe Menendez         1\n",
      "4525                      Eric Bross         1\n",
      "4526                  Will Eisenberg         1\n",
      "4527                     Mozez Singh         1\n",
      "\n",
      "[4528 rows x 2 columns]\n",
      "\n",
      "number of null values 2634\n"
     ]
    }
   ],
   "source": [
    "print('count of elements', df['director'].count())\n",
    "print('size of elements', df['director'].size)\n",
    "print('number of unique elements', df['director'].nunique())\n",
    "print()\n",
    "print('mode of column', df['director'].mode())\n",
    "print()\n",
    "print('value of count of each element', df['director'].value_counts().reset_index())\n",
    "print()\n",
    "print('number of null values', df['director'].isna().sum())"
   ]
  },
  {
   "cell_type": "markdown",
   "metadata": {
    "id": "VIEhwlDWAbQg"
   },
   "source": [
    "## Cast column\n",
    "### Insight\n",
    "- All elements in this columns are not unique and includes null value\n",
    "- number of null values - 825\n",
    "- datatype is object, which should be string\n",
    "- most of the elements is list of string\n",
    "- Mode -  David Attenborough  (in 19 movies / tvshows , was casted)"
   ]
  },
  {
   "cell_type": "code",
   "execution_count": 94,
   "metadata": {
    "colab": {
     "base_uri": "https://localhost:8080/"
    },
    "id": "DFk8Ni_S_KX_",
    "outputId": "450a15c6-8b7f-495d-ce3d-50b7d99c3d2e"
   },
   "outputs": [
    {
     "name": "stdout",
     "output_type": "stream",
     "text": [
      "count of elements 7982\n",
      "size of elements 8807\n",
      "number of unique elements 7692\n",
      "\n",
      "mode of column 0    David Attenborough\n",
      "Name: cast, dtype: object\n",
      "\n",
      "value of count of each element                                                   index  cast\n",
      "0                                    David Attenborough    19\n",
      "1     Vatsal Dubey, Julie Tejwani, Rupa Bhimani, Jig...    14\n",
      "2                                           Samuel West    10\n",
      "3                                           Jeff Dunham     7\n",
      "4          David Spade, London Hughes, Fortune Feimster     6\n",
      "...                                                 ...   ...\n",
      "7687  Michael Peña, Diego Luna, Tenoch Huerta, Joaqu...     1\n",
      "7688                        Nick Lachey, Vanessa Lachey     1\n",
      "7689  Takeru Sato, Kasumi Arimura, Haru, Kentaro Sak...     1\n",
      "7690  Toyin Abraham, Sambasa Nzeribe, Chioma Chukwuk...     1\n",
      "7691  Vicky Kaushal, Sarah-Jane Dias, Raaghav Chanan...     1\n",
      "\n",
      "[7692 rows x 2 columns]\n",
      "\n",
      "number of null values 825\n"
     ]
    }
   ],
   "source": [
    "print('count of elements', df['cast'].count())\n",
    "print('size of elements', df['cast'].size)\n",
    "print('number of unique elements', df['cast'].nunique())\n",
    "print()\n",
    "print('mode of column', df['cast'].mode())\n",
    "print()\n",
    "print('value of count of each element', df['cast'].value_counts().reset_index())\n",
    "print()\n",
    "print('number of null values', df['cast'].isna().sum())"
   ]
  },
  {
   "cell_type": "markdown",
   "metadata": {
    "id": "DDQ9WH2lBbM1"
   },
   "source": []
  },
  {
   "cell_type": "markdown",
   "metadata": {
    "id": "NVFslLcHBbSa"
   },
   "source": [
    "## country column\n",
    "### Insight\n",
    "- All elements in this columns are not unique and includes null value\n",
    "- number of null values - 831\n",
    "- datatype is object, which should be string\n",
    "- most of the elements is list of string\n",
    "- Mode -  United States (2818 value count)\n",
    "- unique value = 748"
   ]
  },
  {
   "cell_type": "code",
   "execution_count": 95,
   "metadata": {
    "colab": {
     "base_uri": "https://localhost:8080/"
    },
    "id": "jRQD01BDApTY",
    "outputId": "05590b7b-4a76-46eb-8abc-982201104329"
   },
   "outputs": [
    {
     "name": "stdout",
     "output_type": "stream",
     "text": [
      "count of elements 7976\n",
      "size of elements 8807\n",
      "number of unique elements 748\n",
      "\n",
      "mode of column 0    United States\n",
      "Name: country, dtype: object\n",
      "\n",
      "value of count of each element                                       index  country\n",
      "0                             United States     2818\n",
      "1                                     India      972\n",
      "2                            United Kingdom      419\n",
      "3                                     Japan      245\n",
      "4                               South Korea      199\n",
      "..                                      ...      ...\n",
      "743              Romania, Bulgaria, Hungary        1\n",
      "744                      Uruguay, Guatemala        1\n",
      "745                France, Senegal, Belgium        1\n",
      "746  Mexico, United States, Spain, Colombia        1\n",
      "747            United Arab Emirates, Jordan        1\n",
      "\n",
      "[748 rows x 2 columns]\n",
      "\n",
      "number of null values 831\n"
     ]
    }
   ],
   "source": [
    "print('count of elements', df['country'].count())\n",
    "print('size of elements', df['country'].size)\n",
    "print('number of unique elements', df['country'].nunique())\n",
    "print()\n",
    "print('mode of column', df['country'].mode())\n",
    "print()\n",
    "print('value of count of each element', df['country'].value_counts().reset_index())\n",
    "print()\n",
    "print('number of null values', df['country'].isna().sum())"
   ]
  },
  {
   "cell_type": "markdown",
   "metadata": {
    "id": "JuH7LkR6CDUq"
   },
   "source": []
  },
  {
   "cell_type": "markdown",
   "metadata": {
    "id": "WPD6nsCoCDde"
   },
   "source": [
    "## Date_added column\n",
    "### Insight\n",
    "- All elements in this columns are not unique and includes null value\n",
    "- number of null values - 10\n",
    "- datatype is object, which should be datetime datatype\n",
    "- Most of the movie added on January 1, 2020  -  189 counts\n",
    "- most of movies/tvshows added on first of month\n",
    "- unique value = 1767"
   ]
  },
  {
   "cell_type": "code",
   "execution_count": 96,
   "metadata": {
    "colab": {
     "base_uri": "https://localhost:8080/"
    },
    "id": "IDG88N-wBnmk",
    "outputId": "855b8fc3-3b16-40e7-988e-c50ef54a0600"
   },
   "outputs": [
    {
     "name": "stdout",
     "output_type": "stream",
     "text": [
      "count of elements 8797\n",
      "size of elements 8807\n",
      "number of unique elements 1767\n",
      "\n",
      "mode of column 0    January 1, 2020\n",
      "Name: date_added, dtype: object\n",
      "\n",
      "value of count of each element                   index  date_added\n",
      "0       January 1, 2020         109\n",
      "1      November 1, 2019          89\n",
      "2         March 1, 2018          75\n",
      "3     December 31, 2019          74\n",
      "4       October 1, 2018          71\n",
      "...                 ...         ...\n",
      "1762   December 4, 2016           1\n",
      "1763  November 21, 2016           1\n",
      "1764  November 19, 2016           1\n",
      "1765  November 17, 2016           1\n",
      "1766   January 11, 2020           1\n",
      "\n",
      "[1767 rows x 2 columns]\n",
      "\n",
      "number of null values 10\n"
     ]
    }
   ],
   "source": [
    "print('count of elements', df['date_added'].count())\n",
    "print('size of elements', df['date_added'].size)\n",
    "print('number of unique elements', df['date_added'].nunique())\n",
    "print()\n",
    "print('mode of column', df['date_added'].mode())\n",
    "print()\n",
    "print('value of count of each element', df['date_added'].value_counts().reset_index())\n",
    "print()\n",
    "print('number of null values', df['date_added'].isna().sum())"
   ]
  },
  {
   "cell_type": "markdown",
   "metadata": {
    "id": "PF5xBLmfC4n-"
   },
   "source": []
  },
  {
   "cell_type": "markdown",
   "metadata": {
    "id": "aKaQaU_EC4uR"
   },
   "source": [
    "## release_year column\n",
    "### Insight\n",
    "- All elements in this columns are not unique and no null value\n",
    "- datatype is int64, should be in string or categorical\n",
    "- Most of the movie released on 2018 -  1147 counts\n",
    "- unique value = 74\n",
    "- first release year -  1925\n",
    "- last release year -  2021\n",
    "- range of years - 96"
   ]
  },
  {
   "cell_type": "code",
   "execution_count": 97,
   "metadata": {
    "colab": {
     "base_uri": "https://localhost:8080/"
    },
    "id": "r156YLVlCVzk",
    "outputId": "b2f0b397-9447-4e39-a71f-f11f45fefbce"
   },
   "outputs": [
    {
     "name": "stdout",
     "output_type": "stream",
     "text": [
      "count of elements 8807\n",
      "size of elements 8807\n",
      "number of unique elements 74\n",
      "\n",
      "mode of column 0    2018\n",
      "Name: release_year, dtype: int64\n",
      "\n",
      "value of count of each element     index  release_year\n",
      "0    2018          1147\n",
      "1    2017          1032\n",
      "2    2019          1030\n",
      "3    2020           953\n",
      "4    2016           902\n",
      "..    ...           ...\n",
      "69   1959             1\n",
      "70   1925             1\n",
      "71   1961             1\n",
      "72   1947             1\n",
      "73   1966             1\n",
      "\n",
      "[74 rows x 2 columns]\n",
      "first release year 1925\n",
      "last release year 2021\n",
      "range of years 96\n"
     ]
    }
   ],
   "source": [
    "print('count of elements', df['release_year'].count())\n",
    "print('size of elements', df['release_year'].size)\n",
    "print('number of unique elements', df['release_year'].nunique())\n",
    "print()\n",
    "print('mode of column', df['release_year'].mode())\n",
    "print()\n",
    "print('value of count of each element', df['release_year'].value_counts().reset_index())\n",
    "print('first release year', df['release_year'].min())\n",
    "print('last release year', df['release_year'].max())\n",
    "print('range of years', df['release_year'].max() - df['release_year'].min())"
   ]
  },
  {
   "cell_type": "markdown",
   "metadata": {
    "id": "WnZ7pwoAEi_h"
   },
   "source": [
    "## Rating column\n",
    "### Insight\n",
    "- All elements in this columns are not unique and includes null value\n",
    "- number of null values - 4\n",
    "- datatype is object, which should be category datatype\n",
    "- Most of the content are of \"TV-MA\" rated  -  3207 counts\n",
    "- unique value = 17"
   ]
  },
  {
   "cell_type": "code",
   "execution_count": 98,
   "metadata": {
    "colab": {
     "base_uri": "https://localhost:8080/"
    },
    "id": "dCROKQ0gDp4l",
    "outputId": "2b54a943-2390-47b5-84ca-65278ff93d29"
   },
   "outputs": [
    {
     "name": "stdout",
     "output_type": "stream",
     "text": [
      "count of elements 8803\n",
      "size of elements 8807\n",
      "number of unique elements 17\n",
      "\n",
      "mode of column 0    TV-MA\n",
      "Name: rating, dtype: object\n",
      "\n",
      "value of count of each element        index  rating\n",
      "0      TV-MA    3207\n",
      "1      TV-14    2160\n",
      "2      TV-PG     863\n",
      "3          R     799\n",
      "4      PG-13     490\n",
      "5      TV-Y7     334\n",
      "6       TV-Y     307\n",
      "7         PG     287\n",
      "8       TV-G     220\n",
      "9         NR      80\n",
      "10         G      41\n",
      "11  TV-Y7-FV       6\n",
      "12     NC-17       3\n",
      "13        UR       3\n",
      "14    74 min       1\n",
      "15    84 min       1\n",
      "16    66 min       1\n",
      "\n",
      "number of null values 4\n"
     ]
    }
   ],
   "source": [
    "print('count of elements', df['rating'].count())\n",
    "print('size of elements', df['rating'].size)\n",
    "print('number of unique elements', df['rating'].nunique())\n",
    "print()\n",
    "print('mode of column', df['rating'].mode())\n",
    "print()\n",
    "print('value of count of each element', df['rating'].value_counts().reset_index())\n",
    "print()\n",
    "print('number of null values', df['rating'].isna().sum())"
   ]
  },
  {
   "cell_type": "markdown",
   "metadata": {
    "id": "twCGVOMsFWam"
   },
   "source": []
  },
  {
   "cell_type": "markdown",
   "metadata": {
    "id": "sIsIgC5KFWgm"
   },
   "source": [
    "## Duration column\n",
    "### Insight\n",
    "- All elements in this columns are not unique and includes null value\n",
    "- number of null values - 3\n",
    "- datatype is object, which should be int (only int values is required for calculation)\n",
    "- Most of the content of the contents are Tv shows of 1 season  -  1793 counts\n",
    "- unique value = 220"
   ]
  },
  {
   "cell_type": "code",
   "execution_count": 99,
   "metadata": {
    "colab": {
     "base_uri": "https://localhost:8080/"
    },
    "id": "wVCE2x7GEx_R",
    "outputId": "1336508e-f7ab-401c-ca97-3ee24b6364ce"
   },
   "outputs": [
    {
     "name": "stdout",
     "output_type": "stream",
     "text": [
      "count of elements 8804\n",
      "size of elements 8807\n",
      "number of unique elements 220\n",
      "\n",
      "mode of column 0    1 Season\n",
      "Name: duration, dtype: object\n",
      "\n",
      "value of count of each element          index  duration\n",
      "0     1 Season      1793\n",
      "1    2 Seasons       425\n",
      "2    3 Seasons       199\n",
      "3       90 min       152\n",
      "4       94 min       146\n",
      "..         ...       ...\n",
      "215     16 min         1\n",
      "216    186 min         1\n",
      "217    193 min         1\n",
      "218    189 min         1\n",
      "219    191 min         1\n",
      "\n",
      "[220 rows x 2 columns]\n",
      "\n",
      "number of null values 3\n"
     ]
    }
   ],
   "source": [
    "print('count of elements', df['duration'].count())\n",
    "print('size of elements', df['duration'].size)\n",
    "print('number of unique elements', df['duration'].nunique())\n",
    "print()\n",
    "print('mode of column', df['duration'].mode())\n",
    "print()\n",
    "print('value of count of each element', df['duration'].value_counts().reset_index())\n",
    "print()\n",
    "print('number of null values', df['duration'].isna().sum())"
   ]
  },
  {
   "cell_type": "markdown",
   "metadata": {
    "id": "L3N9rnVcG54k"
   },
   "source": [
    "## Listed_in column (genre)\n",
    "### Insight\n",
    "- All elements in this columns are not unique and no null value\n",
    "- datatype is object, which should be categorical datatype \n",
    "- Most of the content of the contents are from 'Dramas, International Movies' -  362 counts\n",
    "- unique value = 514\n",
    "- most of the elements is list of string"
   ]
  },
  {
   "cell_type": "code",
   "execution_count": 100,
   "metadata": {
    "colab": {
     "base_uri": "https://localhost:8080/"
    },
    "id": "kQoLDalhG5G_",
    "outputId": "76bae355-64f2-453e-d999-d43b7c6f8d4d"
   },
   "outputs": [
    {
     "name": "stdout",
     "output_type": "stream",
     "text": [
      "count of elements 8807\n",
      "size of elements 8807\n",
      "number of unique elements 514\n",
      "\n",
      "mode of column 0    Dramas, International Movies\n",
      "Name: listed_in, dtype: object\n",
      "\n",
      "value of count of each element                                                  index  listed_in\n",
      "0                         Dramas, International Movies        362\n",
      "1                                        Documentaries        359\n",
      "2                                      Stand-Up Comedy        334\n",
      "3               Comedies, Dramas, International Movies        274\n",
      "4     Dramas, Independent Movies, International Movies        252\n",
      "..                                                 ...        ...\n",
      "509         Kids' TV, TV Action & Adventure, TV Dramas          1\n",
      "510                  TV Comedies, TV Dramas, TV Horror          1\n",
      "511   Children & Family Movies, Comedies, LGBTQ Movies          1\n",
      "512  Kids' TV, Spanish-Language TV Shows, Teen TV S...          1\n",
      "513                     Cult Movies, Dramas, Thrillers          1\n",
      "\n",
      "[514 rows x 2 columns]\n"
     ]
    }
   ],
   "source": [
    "print('count of elements', df['listed_in'].count())\n",
    "print('size of elements', df['listed_in'].size)\n",
    "print('number of unique elements', df['listed_in'].nunique())\n",
    "print()\n",
    "print('mode of column', df['listed_in'].mode())\n",
    "print()\n",
    "print('value of count of each element', df['listed_in'].value_counts().reset_index())"
   ]
  },
  {
   "cell_type": "markdown",
   "metadata": {
    "id": "yxfW6wARIk80"
   },
   "source": [
    "## Description column\n",
    "### Insight\n",
    "- All elements in this columns are not unique and no null value\n",
    "- datatype is object\n",
    "- Most of the content of the contents are from 'Paranormal activity at a lush, abandoned prope...' -  4 counts\n",
    "- unique value = 8775\n",
    "- All elements is list of string"
   ]
  },
  {
   "cell_type": "code",
   "execution_count": 101,
   "metadata": {
    "colab": {
     "base_uri": "https://localhost:8080/"
    },
    "id": "6c1uqDQuG5NL",
    "outputId": "281c363d-8d94-446c-d81c-2d62ffa5097b"
   },
   "outputs": [
    {
     "name": "stdout",
     "output_type": "stream",
     "text": [
      "count of elements 8807\n",
      "size of elements 8807\n",
      "number of unique elements 8775\n",
      "\n",
      "mode of column 0    Paranormal activity at a lush, abandoned prope...\n",
      "Name: description, dtype: object\n",
      "\n",
      "value of count of each element                                                   index  description\n",
      "0     Paranormal activity at a lush, abandoned prope...            4\n",
      "1     Challenged to compose 100 songs before he can ...            3\n",
      "2     A surly septuagenarian gets another chance at ...            3\n",
      "3     Multiple women report their husbands as missin...            3\n",
      "4     Secrets bubble to the surface after a sensual ...            2\n",
      "...                                                 ...          ...\n",
      "8770  Sent away to evade an arranged marriage, a 14-...            1\n",
      "8771  When his partner in crime goes missing, a smal...            1\n",
      "8772  During 1962’s Cuban missile crisis, a troubled...            1\n",
      "8773  A teen's discovery of a vintage Polaroid camer...            1\n",
      "8774  A scrappy but poor boy worms his way into a ty...            1\n",
      "\n",
      "[8775 rows x 2 columns]\n"
     ]
    }
   ],
   "source": [
    "print('count of elements', df['description'].count())\n",
    "print('size of elements', df['description'].size)\n",
    "print('number of unique elements', df['description'].nunique())\n",
    "print()\n",
    "print('mode of column', df['description'].mode())\n",
    "print()\n",
    "print('value of count of each element', df['description'].value_counts().reset_index())"
   ]
  },
  {
   "cell_type": "markdown",
   "metadata": {
    "id": "5j9xhXyGJh8h"
   },
   "source": [
    "# Convert columns datatype to required datatype"
   ]
  },
  {
   "cell_type": "markdown",
   "metadata": {
    "id": "0JeCb6fUZ8vj"
   },
   "source": [
    "- show_id column datatype to int\n",
    "- type column datatype to category\n",
    "- director column datatype to string\n",
    "- cast column datatype to string\n",
    "- country column datatype to string\n",
    "- date_added column datatype to datetime\n",
    "- duration column datatype to string\n",
    "- listed_in column datatype to string"
   ]
  },
  {
   "cell_type": "code",
   "execution_count": 102,
   "metadata": {
    "id": "DhkSVIQqFrHl"
   },
   "outputs": [],
   "source": [
    "# covert show_id column datatype to int\n",
    "df['show_id'] = df['show_id'].astype(dtype = 'string')"
   ]
  },
  {
   "cell_type": "code",
   "execution_count": 103,
   "metadata": {
    "id": "28tZpsRgLdc_"
   },
   "outputs": [],
   "source": [
    "# covert type column datatype to category\n",
    "df['type'] = df['type'].astype(dtype = 'category')"
   ]
  },
  {
   "cell_type": "code",
   "execution_count": 104,
   "metadata": {
    "id": "AHSDYRxILy9x"
   },
   "outputs": [],
   "source": [
    "# covert director column datatype to string\n",
    "df['director'] = df['director'].astype(dtype = 'string')"
   ]
  },
  {
   "cell_type": "code",
   "execution_count": 105,
   "metadata": {
    "id": "SpC-XoUCMMw6"
   },
   "outputs": [],
   "source": [
    "# covert cast column datatype to string\n",
    "df['cast'] = df['cast'].astype(dtype = 'string')"
   ]
  },
  {
   "cell_type": "code",
   "execution_count": 106,
   "metadata": {
    "id": "y9vRuMlyMjHI"
   },
   "outputs": [],
   "source": [
    "# covert country column datatype to string\n",
    "df['country'] = df['country'].astype(dtype = 'string')"
   ]
  },
  {
   "cell_type": "code",
   "execution_count": 107,
   "metadata": {
    "id": "NanN5_u-MvR7"
   },
   "outputs": [],
   "source": [
    "# covert date_added column datatype to datetime\n",
    "df['date_added'] = pd.to_datetime(df['date_added'])\n",
    "#September 25, 2021"
   ]
  },
  {
   "cell_type": "code",
   "execution_count": 108,
   "metadata": {
    "id": "SgZ5hZ53ZUwT"
   },
   "outputs": [],
   "source": [
    "# covert release_year column datatype to string\n",
    "df['release_year'] = df['release_year'].astype(dtype = 'string')"
   ]
  },
  {
   "cell_type": "code",
   "execution_count": 109,
   "metadata": {
    "id": "EJxQ6UJONd7l"
   },
   "outputs": [],
   "source": [
    "# covert duration column datatype to string\n",
    "df['duration'] = df['duration'].astype(dtype = 'string')"
   ]
  },
  {
   "cell_type": "code",
   "execution_count": 110,
   "metadata": {
    "id": "K5kdhvzBNoVm"
   },
   "outputs": [],
   "source": [
    "# covert listed_in column datatype to string\n",
    "df['listed_in'] = df['listed_in'].astype(dtype = 'string')"
   ]
  },
  {
   "cell_type": "markdown",
   "metadata": {
    "id": "oE1zNNDYbJAH"
   },
   "source": [
    "# Challenges in data\n",
    "1. Get integer value from duration column\n",
    "2. separate list of string in cast, list_in, director, country columns\n",
    "2. Fixing null values in director(2634), cast(825), country(831), data_added(10), rating(4) and duration columns(4)\n"
   ]
  },
  {
   "cell_type": "markdown",
   "metadata": {
    "id": "e3aE3q3uL79w"
   },
   "source": [
    "## 1. Get integer value from duration column\n",
    "#### Approach:\n",
    " - split duration column based on space as delimiter\n",
    " - Explode the output and keep only 1st index value"
   ]
  },
  {
   "cell_type": "code",
   "execution_count": 111,
   "metadata": {
    "id": "emmXc0fXL-Sy"
   },
   "outputs": [],
   "source": [
    "df['duration'] = df['duration'].str.split(expand = True)[0]"
   ]
  },
  {
   "cell_type": "markdown",
   "metadata": {
    "id": "c2uRSoq-K529"
   },
   "source": [
    "## 2. listed data element converted to single element and data is updated\n",
    "### Approach:\n",
    " - Split column based on ', ' as delimiter\n",
    " - Then explode required columns one by one\n",
    " - After exploding, changed datatype to required datatype"
   ]
  },
  {
   "cell_type": "code",
   "execution_count": 112,
   "metadata": {
    "id": "D6GXB8iPqUn7"
   },
   "outputs": [],
   "source": [
    "# spliting multiple string data and converting to list\n",
    "df['director'] = df['director'].str.split(', ')\n",
    "df['country'] = df['country'].str.split(', ')\n",
    "df['listed_in'] = df['listed_in'].str.split(', ')\n",
    "df['cast'] = df['cast'].str.split(', ')"
   ]
  },
  {
   "cell_type": "code",
   "execution_count": 113,
   "metadata": {
    "id": "Rkq836-sIWcX"
   },
   "outputs": [],
   "source": [
    "# director , country, listed_in and cast column is exploded\n",
    "# copy of data is created as df1\n",
    "df1 = df.explode('director')\n",
    "df1 = df1.explode('country')\n",
    "df1 = df1.explode('listed_in')\n",
    "df1 = df1.explode('cast')"
   ]
  },
  {
   "cell_type": "code",
   "execution_count": 114,
   "metadata": {
    "id": "ZsJ0OvXgC72l"
   },
   "outputs": [],
   "source": [
    "# director, country, listed_in, rating and cast column datatype converted to 'String'\n",
    "df1['director'] = df1['director'].astype(dtype = 'string')\n",
    "df1['cast'] = df1['cast'].astype(dtype = 'string')\n",
    "df1['country'] = df1['country'].astype(dtype = 'string')\n",
    "df1['rating'] = df1['rating'].astype(dtype = 'string')\n",
    "df1['listed_in'] = df1['listed_in'].astype(dtype = 'string')"
   ]
  },
  {
   "cell_type": "markdown",
   "metadata": {
    "id": "fmkJ392ID0fu"
   },
   "source": [
    "## 3. director column Null value filled based on country name\n",
    "### Approach :\n",
    " - Group by data by country and pick director name\n",
    " - convert group data to dictionary\n",
    " - Then fill null in director w.r.t country name based on dictionary"
   ]
  },
  {
   "cell_type": "code",
   "execution_count": 115,
   "metadata": {},
   "outputs": [],
   "source": [
    "ctry_grp = df1.groupby('country')['director'].first().reset_index()\n",
    "ctry_grp = ctry_grp.loc[1:]"
   ]
  },
  {
   "cell_type": "code",
   "execution_count": 116,
   "metadata": {},
   "outputs": [],
   "source": [
    "ctry_grp  = dict(zip(ctry_grp['country'], ctry_grp ['director']))"
   ]
  },
  {
   "cell_type": "code",
   "execution_count": 117,
   "metadata": {},
   "outputs": [],
   "source": [
    "df1['director'] = df1['director'].fillna(df1['country'].map(ctry_grp))"
   ]
  },
  {
   "cell_type": "markdown",
   "metadata": {},
   "source": [
    "# country column null value filled based on director column\n",
    "### Approach :\n",
    " - Group by data by director and pick country name\n",
    " - convert group data to dictionary\n",
    " - Then fill null in country w.r.t director name based on dictionary"
   ]
  },
  {
   "cell_type": "code",
   "execution_count": 118,
   "metadata": {},
   "outputs": [],
   "source": [
    "dir_grp = df1.groupby('director')['country'].first().reset_index()"
   ]
  },
  {
   "cell_type": "code",
   "execution_count": 119,
   "metadata": {},
   "outputs": [],
   "source": [
    "dir_grp  = dict(zip(dir_grp['director'], dir_grp ['country']))"
   ]
  },
  {
   "cell_type": "code",
   "execution_count": 120,
   "metadata": {},
   "outputs": [],
   "source": [
    "df1['country'] = df1['country'].fillna(df1['director'].map(dir_grp))"
   ]
  },
  {
   "cell_type": "markdown",
   "metadata": {},
   "source": [
    "# country column null value filled based on listed_in column\n",
    "### Approach :\n",
    " - Group by data by listed_in and pick country name\n",
    " - convert group data to dictionary\n",
    " - Then fill null in country w.r.t listed_in name based on dictionary"
   ]
  },
  {
   "cell_type": "code",
   "execution_count": 121,
   "metadata": {},
   "outputs": [],
   "source": [
    "genre_grp = df1.groupby('listed_in')['country'].first().reset_index()\n",
    "genre_grp  = dict(zip(genre_grp['listed_in'], genre_grp ['country']))"
   ]
  },
  {
   "cell_type": "code",
   "execution_count": 122,
   "metadata": {},
   "outputs": [],
   "source": [
    "df1['country'] = df1['country'].fillna(df1['listed_in'].map(genre_grp))"
   ]
  },
  {
   "cell_type": "markdown",
   "metadata": {},
   "source": [
    "# date_added null value filled based on release_year column\n",
    "### Approach :\n",
    " - Group by data by release_year and pick date_added name\n",
    " - convert group data to dictionary\n",
    " - Then fill null in date_added w.r.t release_year based on dictionary"
   ]
  },
  {
   "cell_type": "code",
   "execution_count": 123,
   "metadata": {},
   "outputs": [],
   "source": [
    "rel_yr_grp = df1.groupby('release_year')['date_added'].first().reset_index()"
   ]
  },
  {
   "cell_type": "code",
   "execution_count": 124,
   "metadata": {},
   "outputs": [],
   "source": [
    "rel_yr_grp = dict(zip(rel_yr_grp['release_year'],rel_yr_grp['date_added']))"
   ]
  },
  {
   "cell_type": "code",
   "execution_count": 125,
   "metadata": {},
   "outputs": [],
   "source": [
    "df1['date_added'] = df1['date_added'].fillna(df1['release_year'].map(rel_yr_grp))"
   ]
  },
  {
   "cell_type": "markdown",
   "metadata": {},
   "source": [
    "# cast column null value filled based on director column\n",
    "### Approach :\n",
    " - Group by data by director and pick cast name\n",
    " - convert group data to dictionary\n",
    " - Then fill null in cast w.r.t country name based on dictionary"
   ]
  },
  {
   "cell_type": "code",
   "execution_count": 126,
   "metadata": {},
   "outputs": [],
   "source": [
    "dir_cst_grp = df1.groupby('director')['cast'].first().reset_index()"
   ]
  },
  {
   "cell_type": "code",
   "execution_count": 127,
   "metadata": {},
   "outputs": [],
   "source": [
    "dir_cst_grp = dict(zip(dir_cst_grp['director'],dir_cst_grp['cast']))"
   ]
  },
  {
   "cell_type": "code",
   "execution_count": 128,
   "metadata": {},
   "outputs": [],
   "source": [
    "df1['cast'] = df1['cast'].fillna(df1['director'].map(dir_cst_grp))"
   ]
  },
  {
   "cell_type": "markdown",
   "metadata": {},
   "source": [
    "# Deleting null values present columns\n",
    "## 3% of null rows are deleted"
   ]
  },
  {
   "cell_type": "code",
   "execution_count": 129,
   "metadata": {},
   "outputs": [],
   "source": [
    "df1.dropna(subset = ['director'], inplace = True)"
   ]
  },
  {
   "cell_type": "code",
   "execution_count": 130,
   "metadata": {},
   "outputs": [],
   "source": [
    "df1.dropna(subset = ['rating'], inplace = True)"
   ]
  },
  {
   "cell_type": "code",
   "execution_count": 131,
   "metadata": {},
   "outputs": [],
   "source": [
    "df1.dropna(subset = ['duration'], inplace = True)"
   ]
  },
  {
   "cell_type": "code",
   "execution_count": 132,
   "metadata": {},
   "outputs": [],
   "source": [
    "df1.dropna(subset = ['cast'], inplace = True)"
   ]
  },
  {
   "cell_type": "markdown",
   "metadata": {
    "id": "ORQv944GabNw"
   },
   "source": [
    "## Creation of day, month, year column for analysis"
   ]
  },
  {
   "cell_type": "code",
   "execution_count": 133,
   "metadata": {
    "id": "f6vAx5yyMDYG"
   },
   "outputs": [],
   "source": [
    "df1['day_'] = df1['date_added'].dt.day\n",
    "df1['month_'] = df1['date_added'].dt.month\n",
    "df1['year_'] = df1['date_added'].dt.year"
   ]
  },
  {
   "cell_type": "markdown",
   "metadata": {},
   "source": [
    "# Analysis of data"
   ]
  },
  {
   "cell_type": "markdown",
   "metadata": {},
   "source": [
    "# 1.\tHow has the number of movies released per year changed over the last\n",
    " - Insight : From year 1997, movies/ TV shows are release increased, max of 1000/ year. In 2021, year's second half data is not available in data. After 2018, number of movies release got declined as per data.\n",
    " - Recommendation : Growth of digital content will increases in upcoming years due to growth of technology and internet speed. More movies will be released and more user will be attracted with afforable rates / free based plans with Ads."
   ]
  },
  {
   "cell_type": "code",
   "execution_count": 134,
   "metadata": {},
   "outputs": [],
   "source": [
    "plot1 = df1.groupby('show_id')['release_year'].first().reset_index().sort_values('release_year')"
   ]
  },
  {
   "cell_type": "code",
   "execution_count": 348,
   "metadata": {
    "scrolled": true
   },
   "outputs": [
    {
     "data": {
      "image/png": "[encoded data removed]",
      "text/plain": [
       "<Figure size 1500x500 with 1 Axes>"
      ]
     },
     "metadata": {},
     "output_type": "display_data"
    }
   ],
   "source": [
    "plt.figure(figsize = (15,5))\n",
    "sns.countplot(data = plot1, x = 'release_year')\n",
    "plt.title('Trend of releases per year')\n",
    "plt.xticks(size = 10,rotation = 90)\n",
    "plt.show()"
   ]
  },
  {
   "cell_type": "markdown",
   "metadata": {},
   "source": [
    "# 2.\tComparison of tv shows vs. movies\n",
    " - Insight : count of movies are almost double when compared to TV shows \n",
    " - Recommendation : More movies to be added, as past data shows more movies are available. By assumption - more movies means more user like to watch movies. Movies can be produced / added based on the cost."
   ]
  },
  {
   "cell_type": "code",
   "execution_count": 136,
   "metadata": {},
   "outputs": [],
   "source": [
    "plot2 = df1.groupby('show_id')['type'].first().reset_index()"
   ]
  },
  {
   "cell_type": "code",
   "execution_count": 137,
   "metadata": {},
   "outputs": [
    {
     "data": {
      "image/png": "[encoded data removed]",
      "text/plain": [
       "<Figure size 500x500 with 1 Axes>"
      ]
     },
     "metadata": {},
     "output_type": "display_data"
    }
   ],
   "source": [
    "plt.figure(figsize = (5,5))\n",
    "sns.countplot(data = plot2, x = 'type')\n",
    "plt.title('Movies vs TV shows count')\n",
    "plt.xticks(size = 10)\n",
    "plt.show()"
   ]
  },
  {
   "cell_type": "markdown",
   "metadata": {},
   "source": [
    "# 3.\tWhat is the best time to launch a TV show? (added date analysis)\n",
    " - Insight :  \n",
    "     - Most of movies/ Tv shows are added on 1st/ 15th of every month.\n",
    "     - Even compared to month wise, most of them added on Decemeber month\n",
    "     - Addition of movies/ Tv show increase over the year.\n",
    " - Recommendation : \n",
    "     - As Movies/ Tv shows can be added on 1st / 15th of every month and preferablely on Dec, Sep, july.\n",
    "     - Assume - those month contains vacation time."
   ]
  },
  {
   "cell_type": "code",
   "execution_count": 138,
   "metadata": {},
   "outputs": [],
   "source": [
    "plot3 = df1.groupby('show_id')[['type','day_','month_', 'year_','date_added']].first().reset_index()"
   ]
  },
  {
   "cell_type": "code",
   "execution_count": 139,
   "metadata": {},
   "outputs": [],
   "source": [
    "plot3 = plot3[plot3['type'] == 'TV Show']"
   ]
  },
  {
   "cell_type": "code",
   "execution_count": 140,
   "metadata": {},
   "outputs": [
    {
     "data": {
      "text/plain": [
       "<Axes: xlabel='day_', ylabel='count'>"
      ]
     },
     "execution_count": 140,
     "metadata": {},
     "output_type": "execute_result"
    },
    {
     "data": {
      "image/png": "[encoded data removed]",
      "text/plain": [
       "<Figure size 1000x500 with 1 Axes>"
      ]
     },
     "metadata": {},
     "output_type": "display_data"
    }
   ],
   "source": [
    "plt.figure(figsize = (10,5))\n",
    "sns.countplot(data = plot3, x = 'day_')"
   ]
  },
  {
   "cell_type": "code",
   "execution_count": 141,
   "metadata": {},
   "outputs": [
    {
     "data": {
      "text/plain": [
       "<Axes: xlabel='month_', ylabel='count'>"
      ]
     },
     "execution_count": 141,
     "metadata": {},
     "output_type": "execute_result"
    },
    {
     "data": {
      "image/png": "[encoded data removed]",
      "text/plain": [
       "<Figure size 640x480 with 1 Axes>"
      ]
     },
     "metadata": {},
     "output_type": "display_data"
    }
   ],
   "source": [
    "sns.countplot(data = plot3, x = 'month_')"
   ]
  },
  {
   "cell_type": "code",
   "execution_count": 156,
   "metadata": {},
   "outputs": [
    {
     "data": {
      "text/plain": [
       "<Axes: xlabel='year_', ylabel='count'>"
      ]
     },
     "execution_count": 156,
     "metadata": {},
     "output_type": "execute_result"
    },
    {
     "data": {
      "image/png": "[encoded data removed]",
      "text/plain": [
       "<Figure size 640x480 with 1 Axes>"
      ]
     },
     "metadata": {},
     "output_type": "display_data"
    }
   ],
   "source": [
    "sns.countplot(data = plot3, x = 'year_')"
   ]
  },
  {
   "cell_type": "markdown",
   "metadata": {},
   "source": [
    "## 4.\tAnalysis of actors/directors of different types of shows/movies.\n",
    " - Insight : Refer below table for details - \n",
    "     - In movies / Tv Show : Top 10 cast have acted in majority movies \n",
    "     - In movies / Tv Show : Top director have directed in majority movies\n",
    " - Recommendation :\n",
    "     - As per data, with a combination of Top 10 director and Top 10 Cast in new movie/Tv show. Those movie / Tv shows can be added to Netflix.\n",
    "     - As  these combination as worked in past and will work in future also.\n",
    "     "
   ]
  },
  {
   "cell_type": "code",
   "execution_count": 142,
   "metadata": {},
   "outputs": [],
   "source": [
    "df_actors = df.explode('cast')\n",
    "df_actors['cast'] = df_actors['cast'].astype('string')"
   ]
  },
  {
   "cell_type": "code",
   "execution_count": 143,
   "metadata": {},
   "outputs": [],
   "source": [
    "df_actors_m = df_actors[df_actors['type'] == 'Movie'][['cast','type']]\n",
    "df_actors_tv = df_actors[df_actors['type'] == 'TV Show'][['cast','type']]"
   ]
  },
  {
   "cell_type": "code",
   "execution_count": 144,
   "metadata": {},
   "outputs": [
    {
     "data": {
      "text/html": [
       "<div>\n",
       "<style scoped>\n",
       "    .dataframe tbody tr th:only-of-type {\n",
       "        vertical-align: middle;\n",
       "    }\n",
       "\n",
       "    .dataframe tbody tr th {\n",
       "        vertical-align: top;\n",
       "    }\n",
       "\n",
       "    .dataframe thead th {\n",
       "        text-align: right;\n",
       "    }\n",
       "</style>\n",
       "<table border=\"1\" class=\"dataframe\">\n",
       "  <thead>\n",
       "    <tr style=\"text-align: right;\">\n",
       "      <th></th>\n",
       "      <th>index</th>\n",
       "      <th>cast</th>\n",
       "    </tr>\n",
       "  </thead>\n",
       "  <tbody>\n",
       "    <tr>\n",
       "      <th>0</th>\n",
       "      <td>Anupam Kher</td>\n",
       "      <td>42</td>\n",
       "    </tr>\n",
       "    <tr>\n",
       "      <th>1</th>\n",
       "      <td>Shah Rukh Khan</td>\n",
       "      <td>35</td>\n",
       "    </tr>\n",
       "    <tr>\n",
       "      <th>2</th>\n",
       "      <td>Naseeruddin Shah</td>\n",
       "      <td>32</td>\n",
       "    </tr>\n",
       "    <tr>\n",
       "      <th>3</th>\n",
       "      <td>Akshay Kumar</td>\n",
       "      <td>30</td>\n",
       "    </tr>\n",
       "    <tr>\n",
       "      <th>4</th>\n",
       "      <td>Om Puri</td>\n",
       "      <td>30</td>\n",
       "    </tr>\n",
       "    <tr>\n",
       "      <th>...</th>\n",
       "      <td>...</td>\n",
       "      <td>...</td>\n",
       "    </tr>\n",
       "    <tr>\n",
       "      <th>25946</th>\n",
       "      <td>Wiwat Kongrasri</td>\n",
       "      <td>1</td>\n",
       "    </tr>\n",
       "    <tr>\n",
       "      <th>25947</th>\n",
       "      <td>Evelyne Grandjean</td>\n",
       "      <td>1</td>\n",
       "    </tr>\n",
       "    <tr>\n",
       "      <th>25948</th>\n",
       "      <td>Sayali Bhagat</td>\n",
       "      <td>1</td>\n",
       "    </tr>\n",
       "    <tr>\n",
       "      <th>25949</th>\n",
       "      <td>Manasa Radhakrishnan</td>\n",
       "      <td>1</td>\n",
       "    </tr>\n",
       "    <tr>\n",
       "      <th>25950</th>\n",
       "      <td>Chittaranjan Tripathy</td>\n",
       "      <td>1</td>\n",
       "    </tr>\n",
       "  </tbody>\n",
       "</table>\n",
       "<p>25951 rows × 2 columns</p>\n",
       "</div>"
      ],
      "text/plain": [
       "                       index  cast\n",
       "0                Anupam Kher    42\n",
       "1             Shah Rukh Khan    35\n",
       "2           Naseeruddin Shah    32\n",
       "3               Akshay Kumar    30\n",
       "4                    Om Puri    30\n",
       "...                      ...   ...\n",
       "25946        Wiwat Kongrasri     1\n",
       "25947      Evelyne Grandjean     1\n",
       "25948          Sayali Bhagat     1\n",
       "25949   Manasa Radhakrishnan     1\n",
       "25950  Chittaranjan Tripathy     1\n",
       "\n",
       "[25951 rows x 2 columns]"
      ]
     },
     "execution_count": 144,
     "metadata": {},
     "output_type": "execute_result"
    }
   ],
   "source": [
    "df_actors_m['cast'].value_counts().reset_index()"
   ]
  },
  {
   "cell_type": "code",
   "execution_count": 145,
   "metadata": {},
   "outputs": [
    {
     "data": {
      "text/html": [
       "<div>\n",
       "<style scoped>\n",
       "    .dataframe tbody tr th:only-of-type {\n",
       "        vertical-align: middle;\n",
       "    }\n",
       "\n",
       "    .dataframe tbody tr th {\n",
       "        vertical-align: top;\n",
       "    }\n",
       "\n",
       "    .dataframe thead th {\n",
       "        text-align: right;\n",
       "    }\n",
       "</style>\n",
       "<table border=\"1\" class=\"dataframe\">\n",
       "  <thead>\n",
       "    <tr style=\"text-align: right;\">\n",
       "      <th></th>\n",
       "      <th>index</th>\n",
       "      <th>cast</th>\n",
       "    </tr>\n",
       "  </thead>\n",
       "  <tbody>\n",
       "    <tr>\n",
       "      <th>0</th>\n",
       "      <td>Takahiro Sakurai</td>\n",
       "      <td>25</td>\n",
       "    </tr>\n",
       "    <tr>\n",
       "      <th>1</th>\n",
       "      <td>Yuki Kaji</td>\n",
       "      <td>19</td>\n",
       "    </tr>\n",
       "    <tr>\n",
       "      <th>2</th>\n",
       "      <td>Daisuke Ono</td>\n",
       "      <td>17</td>\n",
       "    </tr>\n",
       "    <tr>\n",
       "      <th>3</th>\n",
       "      <td>Junichi Suwabe</td>\n",
       "      <td>17</td>\n",
       "    </tr>\n",
       "    <tr>\n",
       "      <th>4</th>\n",
       "      <td>Ai Kayano</td>\n",
       "      <td>17</td>\n",
       "    </tr>\n",
       "    <tr>\n",
       "      <th>...</th>\n",
       "      <td>...</td>\n",
       "      <td>...</td>\n",
       "    </tr>\n",
       "    <tr>\n",
       "      <th>14858</th>\n",
       "      <td>Dennis Chew</td>\n",
       "      <td>1</td>\n",
       "    </tr>\n",
       "    <tr>\n",
       "      <th>14859</th>\n",
       "      <td>Cavin Soh</td>\n",
       "      <td>1</td>\n",
       "    </tr>\n",
       "    <tr>\n",
       "      <th>14860</th>\n",
       "      <td>Mandy Patinkin</td>\n",
       "      <td>1</td>\n",
       "    </tr>\n",
       "    <tr>\n",
       "      <th>14861</th>\n",
       "      <td>Joe Mantegna</td>\n",
       "      <td>1</td>\n",
       "    </tr>\n",
       "    <tr>\n",
       "      <th>14862</th>\n",
       "      <td>Hina Khawaja Bayat</td>\n",
       "      <td>1</td>\n",
       "    </tr>\n",
       "  </tbody>\n",
       "</table>\n",
       "<p>14863 rows × 2 columns</p>\n",
       "</div>"
      ],
      "text/plain": [
       "                    index  cast\n",
       "0        Takahiro Sakurai    25\n",
       "1               Yuki Kaji    19\n",
       "2             Daisuke Ono    17\n",
       "3          Junichi Suwabe    17\n",
       "4               Ai Kayano    17\n",
       "...                   ...   ...\n",
       "14858         Dennis Chew     1\n",
       "14859           Cavin Soh     1\n",
       "14860      Mandy Patinkin     1\n",
       "14861        Joe Mantegna     1\n",
       "14862  Hina Khawaja Bayat     1\n",
       "\n",
       "[14863 rows x 2 columns]"
      ]
     },
     "execution_count": 145,
     "metadata": {},
     "output_type": "execute_result"
    }
   ],
   "source": [
    "df_actors_tv['cast'].value_counts().reset_index()"
   ]
  },
  {
   "cell_type": "code",
   "execution_count": 146,
   "metadata": {},
   "outputs": [],
   "source": [
    "df_direc = df.explode('director')\n",
    "df_direc['director'] = df_direc['director'].astype('string')"
   ]
  },
  {
   "cell_type": "code",
   "execution_count": 147,
   "metadata": {},
   "outputs": [],
   "source": [
    "df_direc_m = df_direc[df_direc['type'] == 'Movie'][['director','type']]\n",
    "df_direc_tv = df_direc[df_direc['type'] == 'TV Show'][['director','type']]"
   ]
  },
  {
   "cell_type": "code",
   "execution_count": 148,
   "metadata": {},
   "outputs": [
    {
     "data": {
      "text/html": [
       "<div>\n",
       "<style scoped>\n",
       "    .dataframe tbody tr th:only-of-type {\n",
       "        vertical-align: middle;\n",
       "    }\n",
       "\n",
       "    .dataframe tbody tr th {\n",
       "        vertical-align: top;\n",
       "    }\n",
       "\n",
       "    .dataframe thead th {\n",
       "        text-align: right;\n",
       "    }\n",
       "</style>\n",
       "<table border=\"1\" class=\"dataframe\">\n",
       "  <thead>\n",
       "    <tr style=\"text-align: right;\">\n",
       "      <th></th>\n",
       "      <th>index</th>\n",
       "      <th>director</th>\n",
       "    </tr>\n",
       "  </thead>\n",
       "  <tbody>\n",
       "    <tr>\n",
       "      <th>0</th>\n",
       "      <td>Rajiv Chilaka</td>\n",
       "      <td>22</td>\n",
       "    </tr>\n",
       "    <tr>\n",
       "      <th>1</th>\n",
       "      <td>Jan Suter</td>\n",
       "      <td>21</td>\n",
       "    </tr>\n",
       "    <tr>\n",
       "      <th>2</th>\n",
       "      <td>Raúl Campos</td>\n",
       "      <td>19</td>\n",
       "    </tr>\n",
       "    <tr>\n",
       "      <th>3</th>\n",
       "      <td>Suhas Kadav</td>\n",
       "      <td>16</td>\n",
       "    </tr>\n",
       "    <tr>\n",
       "      <th>4</th>\n",
       "      <td>Marcus Raboy</td>\n",
       "      <td>15</td>\n",
       "    </tr>\n",
       "    <tr>\n",
       "      <th>...</th>\n",
       "      <td>...</td>\n",
       "      <td>...</td>\n",
       "    </tr>\n",
       "    <tr>\n",
       "      <th>4772</th>\n",
       "      <td>Joe Boyd</td>\n",
       "      <td>1</td>\n",
       "    </tr>\n",
       "    <tr>\n",
       "      <th>4773</th>\n",
       "      <td>David Gelb</td>\n",
       "      <td>1</td>\n",
       "    </tr>\n",
       "    <tr>\n",
       "      <th>4774</th>\n",
       "      <td>Radhu Karmakar</td>\n",
       "      <td>1</td>\n",
       "    </tr>\n",
       "    <tr>\n",
       "      <th>4775</th>\n",
       "      <td>John Edginton</td>\n",
       "      <td>1</td>\n",
       "    </tr>\n",
       "    <tr>\n",
       "      <th>4776</th>\n",
       "      <td>Mozez Singh</td>\n",
       "      <td>1</td>\n",
       "    </tr>\n",
       "  </tbody>\n",
       "</table>\n",
       "<p>4777 rows × 2 columns</p>\n",
       "</div>"
      ],
      "text/plain": [
       "               index  director\n",
       "0      Rajiv Chilaka        22\n",
       "1          Jan Suter        21\n",
       "2        Raúl Campos        19\n",
       "3        Suhas Kadav        16\n",
       "4       Marcus Raboy        15\n",
       "...              ...       ...\n",
       "4772        Joe Boyd         1\n",
       "4773      David Gelb         1\n",
       "4774  Radhu Karmakar         1\n",
       "4775   John Edginton         1\n",
       "4776     Mozez Singh         1\n",
       "\n",
       "[4777 rows x 2 columns]"
      ]
     },
     "execution_count": 148,
     "metadata": {},
     "output_type": "execute_result"
    }
   ],
   "source": [
    "df_direc_m['director'].value_counts().reset_index()"
   ]
  },
  {
   "cell_type": "code",
   "execution_count": 149,
   "metadata": {},
   "outputs": [
    {
     "data": {
      "text/html": [
       "<div>\n",
       "<style scoped>\n",
       "    .dataframe tbody tr th:only-of-type {\n",
       "        vertical-align: middle;\n",
       "    }\n",
       "\n",
       "    .dataframe tbody tr th {\n",
       "        vertical-align: top;\n",
       "    }\n",
       "\n",
       "    .dataframe thead th {\n",
       "        text-align: right;\n",
       "    }\n",
       "</style>\n",
       "<table border=\"1\" class=\"dataframe\">\n",
       "  <thead>\n",
       "    <tr style=\"text-align: right;\">\n",
       "      <th></th>\n",
       "      <th>index</th>\n",
       "      <th>director</th>\n",
       "    </tr>\n",
       "  </thead>\n",
       "  <tbody>\n",
       "    <tr>\n",
       "      <th>0</th>\n",
       "      <td>Alastair Fothergill</td>\n",
       "      <td>3</td>\n",
       "    </tr>\n",
       "    <tr>\n",
       "      <th>1</th>\n",
       "      <td>Ken Burns</td>\n",
       "      <td>3</td>\n",
       "    </tr>\n",
       "    <tr>\n",
       "      <th>2</th>\n",
       "      <td>Stan Lathan</td>\n",
       "      <td>2</td>\n",
       "    </tr>\n",
       "    <tr>\n",
       "      <th>3</th>\n",
       "      <td>Rob Seidenglanz</td>\n",
       "      <td>2</td>\n",
       "    </tr>\n",
       "    <tr>\n",
       "      <th>4</th>\n",
       "      <td>Shin Won-ho</td>\n",
       "      <td>2</td>\n",
       "    </tr>\n",
       "    <tr>\n",
       "      <th>...</th>\n",
       "      <td>...</td>\n",
       "      <td>...</td>\n",
       "    </tr>\n",
       "    <tr>\n",
       "      <th>294</th>\n",
       "      <td>Dheeraj Berry</td>\n",
       "      <td>1</td>\n",
       "    </tr>\n",
       "    <tr>\n",
       "      <th>295</th>\n",
       "      <td>Estela Renner</td>\n",
       "      <td>1</td>\n",
       "    </tr>\n",
       "    <tr>\n",
       "      <th>296</th>\n",
       "      <td>Bumpy</td>\n",
       "      <td>1</td>\n",
       "    </tr>\n",
       "    <tr>\n",
       "      <th>297</th>\n",
       "      <td>Michael Samuels</td>\n",
       "      <td>1</td>\n",
       "    </tr>\n",
       "    <tr>\n",
       "      <th>298</th>\n",
       "      <td>Michael Cumming</td>\n",
       "      <td>1</td>\n",
       "    </tr>\n",
       "  </tbody>\n",
       "</table>\n",
       "<p>299 rows × 2 columns</p>\n",
       "</div>"
      ],
      "text/plain": [
       "                   index  director\n",
       "0    Alastair Fothergill         3\n",
       "1              Ken Burns         3\n",
       "2            Stan Lathan         2\n",
       "3        Rob Seidenglanz         2\n",
       "4            Shin Won-ho         2\n",
       "..                   ...       ...\n",
       "294        Dheeraj Berry         1\n",
       "295        Estela Renner         1\n",
       "296                Bumpy         1\n",
       "297      Michael Samuels         1\n",
       "298      Michael Cumming         1\n",
       "\n",
       "[299 rows x 2 columns]"
      ]
     },
     "execution_count": 149,
     "metadata": {},
     "output_type": "execute_result"
    }
   ],
   "source": [
    "df_direc_tv['director'].value_counts().reset_index()"
   ]
  },
  {
   "cell_type": "markdown",
   "metadata": {},
   "source": [
    "## 5.\tDoes Netflix has more focus on TV Shows than movies in recent years\n",
    " - Insight : \n",
    "     - There is decline in movies addition in Netflix over years. \n",
    "     - In past year, TV shows addition as been increased year by year\n",
    "\n",
    " - recommendation : \n",
    "     - As per past data, Netflix as been more TV shows compared to movies. Where viewer, prefer to watch TV show  when compared to movies.\n",
    "     - TV shows to be added more and produced more to get what viewer want to watch.\n",
    "     - Special plan can be added, for viewer who wants to watch only TV shows and this plan is only TV show watch."
   ]
  },
  {
   "cell_type": "code",
   "execution_count": 151,
   "metadata": {},
   "outputs": [],
   "source": [
    "plot4 = df1.groupby('show_id')[['type','year_']].first().sort_values('year_')"
   ]
  },
  {
   "cell_type": "code",
   "execution_count": 158,
   "metadata": {},
   "outputs": [
    {
     "data": {
      "text/plain": [
       "<Axes: xlabel='year_', ylabel='count'>"
      ]
     },
     "execution_count": 158,
     "metadata": {},
     "output_type": "execute_result"
    },
    {
     "data": {
      "image/png": "[encoded data removed]",
      "text/plain": [
       "<Figure size 1000x500 with 1 Axes>"
      ]
     },
     "metadata": {},
     "output_type": "display_data"
    }
   ],
   "source": [
    "plt.figure(figsize = (10,5))\n",
    "sns.countplot(data = plot4, x = 'year_', hue = 'type')"
   ]
  },
  {
   "cell_type": "markdown",
   "metadata": {},
   "source": [
    "## 6.\tUnderstanding what content is available in different countries.\n",
    " - Insights:\n",
    "     - Most of Movies/ Tv show which are diversed are released in Top 10 - 20 countries.\n",
    "     - USA tops the list with all different of contents are viewed by viewers.\n",
    "     - By count of Genre, more movies with different content are released in USA\n",
    " - Recommendation : \n",
    "     - In Top 5 countries based of diversed content, New content type Movies/ Tv shows can be added specific to those countires. As viewer can watch any new content.\n",
    "     - In USA, more movies and TV shows can be added. past data shows - viewers can watch any new type contents."
   ]
  },
  {
   "cell_type": "code",
   "execution_count": 220,
   "metadata": {},
   "outputs": [],
   "source": [
    "plot5 = df.explode('country')\n",
    "plot5 = plot5.explode('listed_in')"
   ]
  },
  {
   "cell_type": "code",
   "execution_count": 221,
   "metadata": {},
   "outputs": [],
   "source": [
    "plot5_1 = pd.crosstab(index = plot5['country'], columns = plot5['listed_in'])"
   ]
  },
  {
   "cell_type": "code",
   "execution_count": 222,
   "metadata": {},
   "outputs": [],
   "source": [
    "plot5_1.replace(0,np.nan, inplace = True)\n",
    "plot5_1['cnt'] = plot5_1.count(axis = 1)\n",
    "plot5_1.sort_values('cnt', ascending = False, inplace = True)\n",
    "plot5_1['total'] = plot5_1.sum(axis = 1)\n",
    "plot5_1 = plot5_1.reset_index()"
   ]
  },
  {
   "cell_type": "code",
   "execution_count": 235,
   "metadata": {},
   "outputs": [
    {
     "data": {
      "text/plain": [
       "42"
      ]
     },
     "execution_count": 235,
     "metadata": {},
     "output_type": "execute_result"
    }
   ],
   "source": [
    "plot5['listed_in'].nunique()"
   ]
  },
  {
   "cell_type": "code",
   "execution_count": 226,
   "metadata": {},
   "outputs": [
    {
     "data": {
      "text/html": [
       "<div>\n",
       "<style scoped>\n",
       "    .dataframe tbody tr th:only-of-type {\n",
       "        vertical-align: middle;\n",
       "    }\n",
       "\n",
       "    .dataframe tbody tr th {\n",
       "        vertical-align: top;\n",
       "    }\n",
       "\n",
       "    .dataframe thead th {\n",
       "        text-align: right;\n",
       "    }\n",
       "</style>\n",
       "<table border=\"1\" class=\"dataframe\">\n",
       "  <thead>\n",
       "    <tr style=\"text-align: right;\">\n",
       "      <th>listed_in</th>\n",
       "      <th>country</th>\n",
       "      <th>total</th>\n",
       "      <th>cnt</th>\n",
       "    </tr>\n",
       "  </thead>\n",
       "  <tbody>\n",
       "    <tr>\n",
       "      <th>0</th>\n",
       "      <td>United States</td>\n",
       "      <td>6821.0</td>\n",
       "      <td>42</td>\n",
       "    </tr>\n",
       "    <tr>\n",
       "      <th>1</th>\n",
       "      <td>Canada</td>\n",
       "      <td>914.0</td>\n",
       "      <td>37</td>\n",
       "    </tr>\n",
       "    <tr>\n",
       "      <th>2</th>\n",
       "      <td>United Kingdom</td>\n",
       "      <td>1816.0</td>\n",
       "      <td>37</td>\n",
       "    </tr>\n",
       "    <tr>\n",
       "      <th>3</th>\n",
       "      <td>Australia</td>\n",
       "      <td>375.0</td>\n",
       "      <td>36</td>\n",
       "    </tr>\n",
       "    <tr>\n",
       "      <th>4</th>\n",
       "      <td>India</td>\n",
       "      <td>2839.0</td>\n",
       "      <td>35</td>\n",
       "    </tr>\n",
       "  </tbody>\n",
       "</table>\n",
       "</div>"
      ],
      "text/plain": [
       "listed_in         country   total  cnt\n",
       "0           United States  6821.0   42\n",
       "1                  Canada   914.0   37\n",
       "2          United Kingdom  1816.0   37\n",
       "3               Australia   375.0   36\n",
       "4                   India  2839.0   35"
      ]
     },
     "execution_count": 226,
     "metadata": {},
     "output_type": "execute_result"
    }
   ],
   "source": [
    "# top 5 countries with most of content\n",
    "plot5_1.head()[['country', 'total', 'cnt']]"
   ]
  },
  {
   "cell_type": "code",
   "execution_count": 257,
   "metadata": {},
   "outputs": [
    {
     "data": {
      "image/png": "[encoded data removed]",
      "text/plain": [
       "<Figure size 1500x500 with 2 Axes>"
      ]
     },
     "metadata": {},
     "output_type": "display_data"
    }
   ],
   "source": [
    "plt.figure(figsize = (15,5))\n",
    "#1\n",
    "plt.subplot(1,2,1)\n",
    "plt.bar(data= plot5_1.head(), x = 'country', height = 'cnt')\n",
    "plt.xlabel('Country')\n",
    "plt.ylabel('Count of Genre')\n",
    "plt.title('Top 5 country with most number of Genre \\n Total genre available = 42')\n",
    "\n",
    "\n",
    "#2 \n",
    "plt.subplot(1,2,2)\n",
    "plt.bar(data= plot5_1.head(), x = 'country', height = 'total')\n",
    "plt.xlabel('Country')\n",
    "plt.ylabel('Total genre for all movies')\n",
    "plt.title('Top 5 country with most number of Genre \\n Total of all genre')\n",
    "plt.show()"
   ]
  },
  {
   "cell_type": "markdown",
   "metadata": {},
   "source": [
    "## 7.\tGenre wise count\n",
    " - Insight : Based on plot, Top 10 Genre are the one which are most watched by viewers. As a per past data, So those Genre contents are more.\n",
    " - Recommendataion : As viewer pefer to watch Movies / Tv shows based on top 10 Genre. So Netflix can add/produce movies/Shows in those Genre to attract more viewer"
   ]
  },
  {
   "cell_type": "code",
   "execution_count": 258,
   "metadata": {},
   "outputs": [],
   "source": [
    "plot6 = df.explode('listed_in')"
   ]
  },
  {
   "cell_type": "code",
   "execution_count": 271,
   "metadata": {
    "scrolled": false
   },
   "outputs": [
    {
     "data": {
      "image/png": "[encoded data removed]",
      "text/plain": [
       "<Figure size 1500x500 with 1 Axes>"
      ]
     },
     "metadata": {},
     "output_type": "display_data"
    }
   ],
   "source": [
    "plt.figure(figsize = (15,5))\n",
    "sns.countplot(data = plot6, x = 'listed_in', order = plot6['listed_in'].value_counts().index)\n",
    "plt.xticks(rotation = 90)\n",
    "plt.show()"
   ]
  },
  {
   "cell_type": "markdown",
   "metadata": {},
   "source": [
    "### Genre wise count w.r.t Type \n",
    " - Insight : Based on below plot, Most of Genre (top10) are from movies type. Few are from TV show.\n",
    " - Recommendation : New movies/Tv show which to be added from Top 10 Genre. These specific Genre can be recommended to viewer as most of them tend to watch."
   ]
  },
  {
   "cell_type": "code",
   "execution_count": 323,
   "metadata": {},
   "outputs": [
    {
     "data": {
      "image/png": "[encoded data removed]",
      "text/plain": [
       "<Figure size 1500x500 with 1 Axes>"
      ]
     },
     "metadata": {},
     "output_type": "display_data"
    }
   ],
   "source": [
    "plt.figure(figsize = (15,5))\n",
    "sns.countplot(data = plot6, x = 'listed_in', order = plot6['listed_in'].value_counts().index, hue = 'type')\n",
    "plt.xticks(rotation = 90)\n",
    "plt.show()"
   ]
  },
  {
   "cell_type": "markdown",
   "metadata": {},
   "source": [
    "## 8. Analysis of duration for movies\n",
    " - Insights:\n",
    "     - Most of movies are of 80 - 110 mins.\n",
    " - Recommendation : Any movies which are to be added. need to be in 80 - 120min range. As past data show, most of data out of it. So viewer perfer to watch those duration movies"
   ]
  },
  {
   "cell_type": "code",
   "execution_count": 288,
   "metadata": {},
   "outputs": [],
   "source": [
    "df.dropna(subset = 'duration', inplace = True)\n",
    "df['duration'] = df['duration'].astype(dtype = 'int64')\n",
    "plot7 = df[df['type'] == 'Movie']"
   ]
  },
  {
   "cell_type": "code",
   "execution_count": 291,
   "metadata": {},
   "outputs": [
    {
     "data": {
      "text/plain": [
       "<Axes: xlabel='duration', ylabel='Count'>"
      ]
     },
     "execution_count": 291,
     "metadata": {},
     "output_type": "execute_result"
    },
    {
     "data": {
      "image/png": "[encoded data removed]",
      "text/plain": [
       "<Figure size 640x480 with 1 Axes>"
      ]
     },
     "metadata": {},
     "output_type": "display_data"
    }
   ],
   "source": [
    "sns.histplot(data = plot7, x = 'duration', bins = 20)"
   ]
  },
  {
   "cell_type": "markdown",
   "metadata": {},
   "source": [
    "## 9. Analysis of season of Tv shows\n",
    " - Insights:\n",
    "     - Most of Tv shows are of 1 season.\n",
    " - Recommendation : Any Tv show which are to be added. need to be in 1 or 2 season. As past data show, most of TV shows data out of it. So viewer perfer to watch those with 1 or 2 seasons."
   ]
  },
  {
   "cell_type": "code",
   "execution_count": 292,
   "metadata": {},
   "outputs": [],
   "source": [
    "plot8 = df[df['type'] == 'TV Show']"
   ]
  },
  {
   "cell_type": "code",
   "execution_count": 294,
   "metadata": {},
   "outputs": [
    {
     "data": {
      "text/plain": [
       "<Axes: xlabel='duration', ylabel='Count'>"
      ]
     },
     "execution_count": 294,
     "metadata": {},
     "output_type": "execute_result"
    },
    {
     "data": {
      "image/png": "[encoded data removed]",
      "text/plain": [
       "<Figure size 640x480 with 1 Axes>"
      ]
     },
     "metadata": {},
     "output_type": "display_data"
    }
   ],
   "source": [
    "sns.histplot(data = plot8, x = 'duration', bins = 10)"
   ]
  },
  {
   "cell_type": "markdown",
   "metadata": {},
   "source": [
    "## 10. country wise movies and tv shows\n",
    " - Insights:\n",
    "     - From topmost country by count,  movies are more watched compared to TV shows.\n",
    "     - But as per past few years, TV shows are more watched.\n",
    " - Recommendation : \n",
    "     - 1st perference will be for Movies and then TV show for upcoming content addition to Netflix. \n",
    "     - In top most country,  preferable to add / produce Movies and TV shows.\n",
    "     "
   ]
  },
  {
   "cell_type": "code",
   "execution_count": 296,
   "metadata": {},
   "outputs": [],
   "source": [
    "plot9 = df.explode('country')"
   ]
  },
  {
   "cell_type": "code",
   "execution_count": 305,
   "metadata": {},
   "outputs": [],
   "source": [
    "plot9_1 = plot9.groupby('country')['type'].count().reset_index().sort_values('type', ascending = False).rename(columns = {'type': 'count'})"
   ]
  },
  {
   "cell_type": "code",
   "execution_count": 335,
   "metadata": {},
   "outputs": [
    {
     "data": {
      "image/png": "[encoded data removed]",
      "text/plain": [
       "<Figure size 640x480 with 1 Axes>"
      ]
     },
     "metadata": {},
     "output_type": "display_data"
    }
   ],
   "source": [
    "lst_ctry_type = list(plot9_1.head()['country'])\n",
    "plot9 = plot9.query('country == @lst_ctry_type')\n",
    "\n",
    "#plot\n",
    "sns.countplot(data = plot9, x = 'country', hue = 'type')\n",
    "plt.title('Top 5 country and type wise count')"
   ]
  },
  {
   "cell_type": "markdown",
   "metadata": {},
   "source": [
    "## 11.  Rating wise count\n",
    " - Insights:\n",
    "     - Most of rated which are available in Netflix are of TV-MA and TV-14.\n",
    "     - Next rated will be TV-PG and TV-17\n",
    " - Recommendation : \n",
    "     - Any movies / Tv show which are to be added should be of TV-MA, TV-14 , TV-PG and TV-17. As past data show, most of data out of it. So viewer perfer to watch those rated contents"
   ]
  },
  {
   "cell_type": "code",
   "execution_count": 346,
   "metadata": {},
   "outputs": [
    {
     "data": {
      "text/plain": [
       "Text(0.5, 1.0, 'Rating wise count')"
      ]
     },
     "execution_count": 346,
     "metadata": {},
     "output_type": "execute_result"
    },
    {
     "data": {
      "image/png": "[encoded data removed]",
      "text/plain": [
       "<Figure size 1000x500 with 1 Axes>"
      ]
     },
     "metadata": {},
     "output_type": "display_data"
    }
   ],
   "source": [
    "plt.figure(figsize = (10,5))\n",
    "sns.countplot(data = df, x = 'rating')\n",
    "plt.title('Rating wise count')"
   ]
  },
  {
   "cell_type": "markdown",
   "metadata": {},
   "source": [
    "## Correlation between columns\n",
    " - Insight : As majority of columns are with String/ object datatype. So, only day, month, year correlation are available (those are int datatype). but these are created column for analysis purpose only.\n",
    "  - In Corr(), all method are tried (‘pearson’, ‘kendall’, ‘spearman’), still result is same."
   ]
  },
  {
   "cell_type": "code",
   "execution_count": 342,
   "metadata": {},
   "outputs": [
    {
     "name": "stderr",
     "output_type": "stream",
     "text": [
      "C:\\Users\\trtej\\AppData\\Local\\Temp\\ipykernel_17872\\805735544.py:1: FutureWarning: The default value of numeric_only in DataFrame.corr is deprecated. In a future version, it will default to False. Select only valid columns or specify the value of numeric_only to silence this warning.\n",
      "  df1.corr(method='pearson')\n"
     ]
    },
    {
     "data": {
      "text/html": [
       "<div>\n",
       "<style scoped>\n",
       "    .dataframe tbody tr th:only-of-type {\n",
       "        vertical-align: middle;\n",
       "    }\n",
       "\n",
       "    .dataframe tbody tr th {\n",
       "        vertical-align: top;\n",
       "    }\n",
       "\n",
       "    .dataframe thead th {\n",
       "        text-align: right;\n",
       "    }\n",
       "</style>\n",
       "<table border=\"1\" class=\"dataframe\">\n",
       "  <thead>\n",
       "    <tr style=\"text-align: right;\">\n",
       "      <th></th>\n",
       "      <th>day_</th>\n",
       "      <th>month_</th>\n",
       "      <th>year_</th>\n",
       "    </tr>\n",
       "  </thead>\n",
       "  <tbody>\n",
       "    <tr>\n",
       "      <th>day_</th>\n",
       "      <td>1.000000</td>\n",
       "      <td>0.021978</td>\n",
       "      <td>0.026132</td>\n",
       "    </tr>\n",
       "    <tr>\n",
       "      <th>month_</th>\n",
       "      <td>0.021978</td>\n",
       "      <td>1.000000</td>\n",
       "      <td>-0.166612</td>\n",
       "    </tr>\n",
       "    <tr>\n",
       "      <th>year_</th>\n",
       "      <td>0.026132</td>\n",
       "      <td>-0.166612</td>\n",
       "      <td>1.000000</td>\n",
       "    </tr>\n",
       "  </tbody>\n",
       "</table>\n",
       "</div>"
      ],
      "text/plain": [
       "            day_    month_     year_\n",
       "day_    1.000000  0.021978  0.026132\n",
       "month_  0.021978  1.000000 -0.166612\n",
       "year_   0.026132 -0.166612  1.000000"
      ]
     },
     "execution_count": 342,
     "metadata": {},
     "output_type": "execute_result"
    }
   ],
   "source": [
    "df1.corr(method='pearson')"
   ]
  }
 ],
 "metadata": {
  "colab": {
   "collapsed_sections": [
    "xPuk1iqhqGeN",
    "wFcCq-Tk1mBd",
    "Ess0d9gR1xoO",
    "26NkFy0o5JiN",
    "Ao-si8to-B2Z",
    "4_eYYwYK_AKo",
    "qNTgkWyfAbMG",
    "DDQ9WH2lBbM1",
    "JuH7LkR6CDUq",
    "PF5xBLmfC4n-",
    "gEWnLpCbEi1h",
    "twCGVOMsFWam",
    "b6G0f6Y0G5tt",
    "bwMC7hAqIk10",
    "5j9xhXyGJh8h",
    "e3aE3q3uL79w",
    "c2uRSoq-K529",
    "ORQv944GabNw"
   ],
   "provenance": []
  },
  "kernelspec": {
   "display_name": "Python 3 (ipykernel)",
   "language": "python",
   "name": "python3"
  },
  "language_info": {
   "codemirror_mode": {
    "name": "ipython",
    "version": 3
   },
   "file_extension": ".py",
   "mimetype": "text/x-python",
   "name": "python",
   "nbconvert_exporter": "python",
   "pygments_lexer": "ipython3",
   "version": "3.10.9"
  }
 },
 "nbformat": 4,
 "nbformat_minor": 1
}
